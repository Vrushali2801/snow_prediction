{
 "cells": [
  {
   "cell_type": "code",
   "execution_count": 1,
   "id": "0a270ff5",
   "metadata": {},
   "outputs": [],
   "source": [
    "%load_ext bigquery_magics\n",
    "\n"
   ]
  },
  {
   "cell_type": "code",
   "execution_count": 2,
   "id": "3a6364c2",
   "metadata": {},
   "outputs": [
    {
     "data": {
      "application/json": {
       "ascii": false,
       "bar_format": "{l_bar}{bar}|",
       "colour": null,
       "elapsed": 0.010943889617919922,
       "initial": 0,
       "n": 0,
       "ncols": null,
       "nrows": null,
       "postfix": null,
       "prefix": "Query is running",
       "rate": null,
       "total": 1,
       "unit": "query",
       "unit_divisor": 1000,
       "unit_scale": false
      },
      "application/vnd.jupyter.widget-view+json": {
       "model_id": "4291ae89f20d4e35acb1c6f2a85b069c",
       "version_major": 2,
       "version_minor": 0
      },
      "text/plain": [
       "Query is running:   0%|          |"
      ]
     },
     "metadata": {},
     "output_type": "display_data"
    },
    {
     "data": {
      "application/json": {
       "ascii": false,
       "bar_format": "{l_bar}{bar}|",
       "colour": null,
       "elapsed": 0.008346319198608398,
       "initial": 0,
       "n": 0,
       "ncols": null,
       "nrows": null,
       "postfix": null,
       "prefix": "Downloading",
       "rate": null,
       "total": 10,
       "unit": "rows",
       "unit_divisor": 1000,
       "unit_scale": false
      },
      "application/vnd.jupyter.widget-view+json": {
       "model_id": "c394df23722642b0bb37bfeb0e2e120d",
       "version_major": 2,
       "version_minor": 0
      },
      "text/plain": [
       "Downloading:   0%|          |"
      ]
     },
     "metadata": {},
     "output_type": "display_data"
    }
   ],
   "source": [
    "%%bigquery stations_ok\n",
    "WITH base AS (\n",
    "  SELECT station_number, year\n",
    "  FROM `bigquery-public-data.samples.gsod`\n",
    "  WHERE station_number BETWEEN 725300 AND 725330\n",
    "    AND year BETWEEN 2000 AND 2005\n",
    "  GROUP BY station_number, year\n",
    "),\n",
    "per_station AS (\n",
    "  SELECT station_number, COUNT(DISTINCT year) AS years_present\n",
    "  FROM base\n",
    "  GROUP BY station_number\n",
    ")\n",
    "SELECT station_number\n",
    "FROM per_station\n",
    "WHERE years_present = 6\n",
    "ORDER BY station_number\n",
    "\n",
    "# this query filters stations that have atleast one row for every year 2000-2005"
   ]
  },
  {
   "cell_type": "code",
   "execution_count": 3,
   "id": "71b13355",
   "metadata": {},
   "outputs": [
    {
     "data": {
      "text/html": [
       "<div>\n",
       "<style scoped>\n",
       "    .dataframe tbody tr th:only-of-type {\n",
       "        vertical-align: middle;\n",
       "    }\n",
       "\n",
       "    .dataframe tbody tr th {\n",
       "        vertical-align: top;\n",
       "    }\n",
       "\n",
       "    .dataframe thead th {\n",
       "        text-align: right;\n",
       "    }\n",
       "</style>\n",
       "<table border=\"1\" class=\"dataframe\">\n",
       "  <thead>\n",
       "    <tr style=\"text-align: right;\">\n",
       "      <th></th>\n",
       "      <th>station_number</th>\n",
       "    </tr>\n",
       "  </thead>\n",
       "  <tbody>\n",
       "    <tr>\n",
       "      <th>0</th>\n",
       "      <td>725300</td>\n",
       "    </tr>\n",
       "    <tr>\n",
       "      <th>1</th>\n",
       "      <td>725305</td>\n",
       "    </tr>\n",
       "    <tr>\n",
       "      <th>2</th>\n",
       "      <td>725314</td>\n",
       "    </tr>\n",
       "    <tr>\n",
       "      <th>3</th>\n",
       "      <td>725315</td>\n",
       "    </tr>\n",
       "    <tr>\n",
       "      <th>4</th>\n",
       "      <td>725316</td>\n",
       "    </tr>\n",
       "    <tr>\n",
       "      <th>5</th>\n",
       "      <td>725317</td>\n",
       "    </tr>\n",
       "    <tr>\n",
       "      <th>6</th>\n",
       "      <td>725320</td>\n",
       "    </tr>\n",
       "    <tr>\n",
       "      <th>7</th>\n",
       "      <td>725326</td>\n",
       "    </tr>\n",
       "    <tr>\n",
       "      <th>8</th>\n",
       "      <td>725327</td>\n",
       "    </tr>\n",
       "    <tr>\n",
       "      <th>9</th>\n",
       "      <td>725330</td>\n",
       "    </tr>\n",
       "  </tbody>\n",
       "</table>\n",
       "</div>"
      ],
      "text/plain": [
       "   station_number\n",
       "0          725300\n",
       "1          725305\n",
       "2          725314\n",
       "3          725315\n",
       "4          725316\n",
       "5          725317\n",
       "6          725320\n",
       "7          725326\n",
       "8          725327\n",
       "9          725330"
      ]
     },
     "execution_count": 3,
     "metadata": {},
     "output_type": "execute_result"
    }
   ],
   "source": [
    "stations_ok"
   ]
  },
  {
   "cell_type": "code",
   "execution_count": 4,
   "id": "70eabd79",
   "metadata": {},
   "outputs": [],
   "source": [
    "from pathlib import Path\n",
    "Path(\"data/interim\").mkdir(parents=True, exist_ok=True)\n",
    "stations_ok.to_csv(\"data/interim/stations_ok.csv\", index=False)\n"
   ]
  },
  {
   "cell_type": "code",
   "execution_count": 5,
   "id": "601f9402",
   "metadata": {},
   "outputs": [
    {
     "data": {
      "application/json": {
       "ascii": false,
       "bar_format": "{l_bar}{bar}|",
       "colour": null,
       "elapsed": 0.0122528076171875,
       "initial": 0,
       "n": 0,
       "ncols": null,
       "nrows": null,
       "postfix": null,
       "prefix": "Query is running",
       "rate": null,
       "total": 1,
       "unit": "query",
       "unit_divisor": 1000,
       "unit_scale": false
      },
      "application/vnd.jupyter.widget-view+json": {
       "model_id": "d2ed0db64122435c9589861dd658cf6e",
       "version_major": 2,
       "version_minor": 0
      },
      "text/plain": [
       "Query is running:   0%|          |"
      ]
     },
     "metadata": {},
     "output_type": "display_data"
    },
    {
     "data": {
      "application/json": {
       "ascii": false,
       "bar_format": "{l_bar}{bar}|",
       "colour": null,
       "elapsed": 0.0043561458587646484,
       "initial": 0,
       "n": 0,
       "ncols": null,
       "nrows": null,
       "postfix": null,
       "prefix": "Downloading",
       "rate": null,
       "total": 6,
       "unit": "rows",
       "unit_divisor": 1000,
       "unit_scale": false
      },
      "application/vnd.jupyter.widget-view+json": {
       "model_id": "45eb33ae00da4deb9813e9ca6e5a6233",
       "version_major": 2,
       "version_minor": 0
      },
      "text/plain": [
       "Downloading:   0%|          |"
      ]
     },
     "metadata": {},
     "output_type": "display_data"
    }
   ],
   "source": [
    "\n",
    "\n",
    "%%bigquery snowfall_by_year\n",
    "WITH station_ok AS (\n",
    "  WITH base AS (\n",
    "    SELECT station_number, year\n",
    "    FROM `bigquery-public-data.samples.gsod`\n",
    "    WHERE station_number BETWEEN 725300 AND 725330\n",
    "      AND year BETWEEN 2000 AND 2005\n",
    "    GROUP BY station_number, year\n",
    "  ),\n",
    "  per_station AS (\n",
    "    SELECT station_number, COUNT(DISTINCT year) AS years_present\n",
    "    FROM base\n",
    "    GROUP BY station_number\n",
    "  )\n",
    "  SELECT station_number\n",
    "  FROM per_station\n",
    "  WHERE years_present = 6\n",
    ")\n",
    "SELECT\n",
    "  year,\n",
    "  SUM(CAST(snow AS INT64)) AS snow_day_count\n",
    "FROM `bigquery-public-data.samples.gsod`\n",
    "WHERE year BETWEEN 2000 AND 2005\n",
    "  AND station_number IN (SELECT station_number FROM station_ok)\n",
    "GROUP BY year\n",
    "ORDER BY snow_day_count DESC, year\n",
    "\n",
    "\n",
    "# This query filters stations 725300–725330 that appear in every year 2000–2005, \n",
    "# then sums the number of snow days per year across those stations and lists years sorted by highest snow-day count\n",
    "# Assuming “Most snowfall” here means number of days with reported snow (frequency )"
   ]
  },
  {
   "cell_type": "code",
   "execution_count": 6,
   "id": "32ce1029",
   "metadata": {},
   "outputs": [
    {
     "data": {
      "text/html": [
       "<div>\n",
       "<style scoped>\n",
       "    .dataframe tbody tr th:only-of-type {\n",
       "        vertical-align: middle;\n",
       "    }\n",
       "\n",
       "    .dataframe tbody tr th {\n",
       "        vertical-align: top;\n",
       "    }\n",
       "\n",
       "    .dataframe thead th {\n",
       "        text-align: right;\n",
       "    }\n",
       "</style>\n",
       "<table border=\"1\" class=\"dataframe\">\n",
       "  <thead>\n",
       "    <tr style=\"text-align: right;\">\n",
       "      <th></th>\n",
       "      <th>year</th>\n",
       "      <th>snow_day_count</th>\n",
       "    </tr>\n",
       "  </thead>\n",
       "  <tbody>\n",
       "    <tr>\n",
       "      <th>0</th>\n",
       "      <td>2005</td>\n",
       "      <td>826</td>\n",
       "    </tr>\n",
       "    <tr>\n",
       "      <th>1</th>\n",
       "      <td>2000</td>\n",
       "      <td>797</td>\n",
       "    </tr>\n",
       "    <tr>\n",
       "      <th>2</th>\n",
       "      <td>2001</td>\n",
       "      <td>759</td>\n",
       "    </tr>\n",
       "    <tr>\n",
       "      <th>3</th>\n",
       "      <td>2002</td>\n",
       "      <td>745</td>\n",
       "    </tr>\n",
       "    <tr>\n",
       "      <th>4</th>\n",
       "      <td>2003</td>\n",
       "      <td>555</td>\n",
       "    </tr>\n",
       "    <tr>\n",
       "      <th>5</th>\n",
       "      <td>2004</td>\n",
       "      <td>262</td>\n",
       "    </tr>\n",
       "  </tbody>\n",
       "</table>\n",
       "</div>"
      ],
      "text/plain": [
       "   year  snow_day_count\n",
       "0  2005             826\n",
       "1  2000             797\n",
       "2  2001             759\n",
       "3  2002             745\n",
       "4  2003             555\n",
       "5  2004             262"
      ]
     },
     "execution_count": 6,
     "metadata": {},
     "output_type": "execute_result"
    }
   ],
   "source": [
    "snowfall_by_year"
   ]
  },
  {
   "cell_type": "code",
   "execution_count": 7,
   "id": "3ef7e61e",
   "metadata": {},
   "outputs": [
    {
     "data": {
      "application/json": {
       "ascii": false,
       "bar_format": "{l_bar}{bar}|",
       "colour": null,
       "elapsed": 0.006262540817260742,
       "initial": 0,
       "n": 0,
       "ncols": null,
       "nrows": null,
       "postfix": null,
       "prefix": "Query is running",
       "rate": null,
       "total": 1,
       "unit": "query",
       "unit_divisor": 1000,
       "unit_scale": false
      },
      "application/vnd.jupyter.widget-view+json": {
       "model_id": "4235b127ea5c4a478253eff9f8584ea0",
       "version_major": 2,
       "version_minor": 0
      },
      "text/plain": [
       "Query is running:   0%|          |"
      ]
     },
     "metadata": {},
     "output_type": "display_data"
    },
    {
     "data": {
      "application/json": {
       "ascii": false,
       "bar_format": "{l_bar}{bar}|",
       "colour": null,
       "elapsed": 0.005978822708129883,
       "initial": 0,
       "n": 0,
       "ncols": null,
       "nrows": null,
       "postfix": null,
       "prefix": "Downloading",
       "rate": null,
       "total": 21853,
       "unit": "rows",
       "unit_divisor": 1000,
       "unit_scale": false
      },
      "application/vnd.jupyter.widget-view+json": {
       "model_id": "745a8a6c2cfc4f71b107d08e11af8085",
       "version_major": 2,
       "version_minor": 0
      },
      "text/plain": [
       "Downloading:   0%|          |"
      ]
     },
     "metadata": {},
     "output_type": "display_data"
    }
   ],
   "source": [
    "\n",
    "%%bigquery depth_changes\n",
    "WITH station_ok AS (\n",
    "  WITH base AS (\n",
    "    SELECT station_number, year\n",
    "    FROM `bigquery-public-data.samples.gsod`\n",
    "    WHERE station_number BETWEEN 725300 AND 725330\n",
    "      AND year BETWEEN 2000 AND 2005\n",
    "    GROUP BY station_number, year\n",
    "  ),\n",
    "  per_station AS (\n",
    "    SELECT station_number, COUNT(DISTINCT year) AS years_present\n",
    "    FROM base\n",
    "    GROUP BY station_number\n",
    "  )\n",
    "  SELECT station_number\n",
    "  FROM per_station\n",
    "  WHERE years_present = 6\n",
    "),\n",
    "filtered AS (\n",
    "  SELECT\n",
    "    station_number,\n",
    "    DATE(year, month, day) AS dte,\n",
    "    snow_depth\n",
    "  FROM `bigquery-public-data.samples.gsod`\n",
    "  WHERE year BETWEEN 2000 AND 2005\n",
    "    AND station_number IN (SELECT station_number FROM station_ok)\n",
    "),\n",
    "with_change AS (\n",
    "  SELECT\n",
    "    station_number,\n",
    "    dte,\n",
    "    snow_depth,\n",
    "    snow_depth - LAG(snow_depth) OVER (\n",
    "      PARTITION BY station_number\n",
    "      ORDER BY dte\n",
    "    ) AS snow_depth_change\n",
    "  FROM filtered\n",
    ")\n",
    "SELECT\n",
    "  station_number,\n",
    "  FORMAT_DATE('%Y-%m-%d', dte) AS date_ymd,\n",
    "  snow_depth,\n",
    "  snow_depth_change\n",
    "FROM with_change\n",
    "ORDER BY station_number, dte\n",
    "\n",
    "\n",
    "# This query selects stations from 2000–2005, \n",
    "# then for each such station computes daily snow_depth and its daily change using LAG\n"
   ]
  },
  {
   "cell_type": "code",
   "execution_count": 8,
   "id": "e21492a0",
   "metadata": {},
   "outputs": [
    {
     "data": {
      "text/html": [
       "<div>\n",
       "<style scoped>\n",
       "    .dataframe tbody tr th:only-of-type {\n",
       "        vertical-align: middle;\n",
       "    }\n",
       "\n",
       "    .dataframe tbody tr th {\n",
       "        vertical-align: top;\n",
       "    }\n",
       "\n",
       "    .dataframe thead th {\n",
       "        text-align: right;\n",
       "    }\n",
       "</style>\n",
       "<table border=\"1\" class=\"dataframe\">\n",
       "  <thead>\n",
       "    <tr style=\"text-align: right;\">\n",
       "      <th></th>\n",
       "      <th>station_number</th>\n",
       "      <th>date_ymd</th>\n",
       "      <th>snow_depth</th>\n",
       "      <th>snow_depth_change</th>\n",
       "    </tr>\n",
       "  </thead>\n",
       "  <tbody>\n",
       "    <tr>\n",
       "      <th>0</th>\n",
       "      <td>725300</td>\n",
       "      <td>2000-01-01</td>\n",
       "      <td>NaN</td>\n",
       "      <td>NaN</td>\n",
       "    </tr>\n",
       "    <tr>\n",
       "      <th>1</th>\n",
       "      <td>725300</td>\n",
       "      <td>2000-01-02</td>\n",
       "      <td>NaN</td>\n",
       "      <td>NaN</td>\n",
       "    </tr>\n",
       "    <tr>\n",
       "      <th>2</th>\n",
       "      <td>725300</td>\n",
       "      <td>2000-01-03</td>\n",
       "      <td>NaN</td>\n",
       "      <td>NaN</td>\n",
       "    </tr>\n",
       "    <tr>\n",
       "      <th>3</th>\n",
       "      <td>725300</td>\n",
       "      <td>2000-01-04</td>\n",
       "      <td>1.2</td>\n",
       "      <td>NaN</td>\n",
       "    </tr>\n",
       "    <tr>\n",
       "      <th>4</th>\n",
       "      <td>725300</td>\n",
       "      <td>2000-01-05</td>\n",
       "      <td>NaN</td>\n",
       "      <td>NaN</td>\n",
       "    </tr>\n",
       "    <tr>\n",
       "      <th>...</th>\n",
       "      <td>...</td>\n",
       "      <td>...</td>\n",
       "      <td>...</td>\n",
       "      <td>...</td>\n",
       "    </tr>\n",
       "    <tr>\n",
       "      <th>21848</th>\n",
       "      <td>725330</td>\n",
       "      <td>2005-12-27</td>\n",
       "      <td>NaN</td>\n",
       "      <td>NaN</td>\n",
       "    </tr>\n",
       "    <tr>\n",
       "      <th>21849</th>\n",
       "      <td>725330</td>\n",
       "      <td>2005-12-28</td>\n",
       "      <td>NaN</td>\n",
       "      <td>NaN</td>\n",
       "    </tr>\n",
       "    <tr>\n",
       "      <th>21850</th>\n",
       "      <td>725330</td>\n",
       "      <td>2005-12-29</td>\n",
       "      <td>NaN</td>\n",
       "      <td>NaN</td>\n",
       "    </tr>\n",
       "    <tr>\n",
       "      <th>21851</th>\n",
       "      <td>725330</td>\n",
       "      <td>2005-12-30</td>\n",
       "      <td>NaN</td>\n",
       "      <td>NaN</td>\n",
       "    </tr>\n",
       "    <tr>\n",
       "      <th>21852</th>\n",
       "      <td>725330</td>\n",
       "      <td>2005-12-31</td>\n",
       "      <td>NaN</td>\n",
       "      <td>NaN</td>\n",
       "    </tr>\n",
       "  </tbody>\n",
       "</table>\n",
       "<p>21853 rows × 4 columns</p>\n",
       "</div>"
      ],
      "text/plain": [
       "       station_number    date_ymd  snow_depth  snow_depth_change\n",
       "0              725300  2000-01-01         NaN                NaN\n",
       "1              725300  2000-01-02         NaN                NaN\n",
       "2              725300  2000-01-03         NaN                NaN\n",
       "3              725300  2000-01-04         1.2                NaN\n",
       "4              725300  2000-01-05         NaN                NaN\n",
       "...               ...         ...         ...                ...\n",
       "21848          725330  2005-12-27         NaN                NaN\n",
       "21849          725330  2005-12-28         NaN                NaN\n",
       "21850          725330  2005-12-29         NaN                NaN\n",
       "21851          725330  2005-12-30         NaN                NaN\n",
       "21852          725330  2005-12-31         NaN                NaN\n",
       "\n",
       "[21853 rows x 4 columns]"
      ]
     },
     "execution_count": 8,
     "metadata": {},
     "output_type": "execute_result"
    }
   ],
   "source": [
    "depth_changes\n"
   ]
  },
  {
   "cell_type": "code",
   "execution_count": 9,
   "id": "5e405637",
   "metadata": {},
   "outputs": [
    {
     "data": {
      "application/json": {
       "ascii": false,
       "bar_format": "{l_bar}{bar}|",
       "colour": null,
       "elapsed": 0,
       "initial": 0,
       "n": 0,
       "ncols": null,
       "nrows": null,
       "postfix": null,
       "prefix": "Query is running",
       "rate": null,
       "total": 1,
       "unit": "query",
       "unit_divisor": 1000,
       "unit_scale": false
      },
      "application/vnd.jupyter.widget-view+json": {
       "model_id": "c3ae00c68ec6452c9c3d50707987f781",
       "version_major": 2,
       "version_minor": 0
      },
      "text/plain": [
       "Query is running:   0%|          |"
      ]
     },
     "metadata": {},
     "output_type": "display_data"
    },
    {
     "data": {
      "application/json": {
       "ascii": false,
       "bar_format": "{l_bar}{bar}|",
       "colour": null,
       "elapsed": 0.005089998245239258,
       "initial": 0,
       "n": 0,
       "ncols": null,
       "nrows": null,
       "postfix": null,
       "prefix": "Downloading",
       "rate": null,
       "total": 1,
       "unit": "rows",
       "unit_divisor": 1000,
       "unit_scale": false
      },
      "application/vnd.jupyter.widget-view+json": {
       "model_id": "11748a59df084252b4f2e9ec9a2affd9",
       "version_major": 2,
       "version_minor": 0
      },
      "text/plain": [
       "Downloading:   0%|          |"
      ]
     },
     "metadata": {},
     "output_type": "display_data"
    }
   ],
   "source": [
    "%%bigquery max_increase\n",
    "WITH station_ok AS (\n",
    "  WITH base AS (\n",
    "    SELECT station_number, year\n",
    "    FROM `bigquery-public-data.samples.gsod`\n",
    "    WHERE station_number BETWEEN 725300 AND 725330\n",
    "      AND year BETWEEN 2000 AND 2005\n",
    "    GROUP BY station_number, year\n",
    "  ),\n",
    "  per_station AS (\n",
    "    SELECT station_number, COUNT(DISTINCT year) AS years_present\n",
    "    FROM base\n",
    "    GROUP BY station_number\n",
    "  )\n",
    "  SELECT station_number\n",
    "  FROM per_station\n",
    "  WHERE years_present = 6\n",
    "),\n",
    "filtered AS (\n",
    "  SELECT\n",
    "    station_number,\n",
    "    DATE(year, month, day) AS dte,\n",
    "    snow_depth\n",
    "  FROM `bigquery-public-data.samples.gsod`\n",
    "  WHERE year BETWEEN 2000 AND 2005\n",
    "    AND station_number IN (SELECT station_number FROM station_ok)\n",
    "),\n",
    "with_change AS (\n",
    "  SELECT\n",
    "    station_number,\n",
    "    dte,\n",
    "    snow_depth - LAG(snow_depth) OVER (\n",
    "      PARTITION BY station_number\n",
    "      ORDER BY dte\n",
    "    ) AS snow_depth_change\n",
    "  FROM filtered\n",
    ")\n",
    "SELECT\n",
    "  station_number,\n",
    "  FORMAT_DATE('%Y-%m-%d', dte) AS date_ymd,\n",
    "  snow_depth_change\n",
    "FROM with_change\n",
    "WHERE snow_depth_change IS NOT NULL\n",
    "ORDER BY snow_depth_change DESC\n",
    "LIMIT 1\n",
    "\n",
    "# This query finds the single largest positive daily increase in snow_depth across stations with 2000–2005 coverage,\n",
    "# returning the station, date, and change value using LAG over station/date.\n",
    "\n"
   ]
  },
  {
   "cell_type": "code",
   "execution_count": 10,
   "id": "72e22b67",
   "metadata": {},
   "outputs": [
    {
     "data": {
      "text/html": [
       "<div>\n",
       "<style scoped>\n",
       "    .dataframe tbody tr th:only-of-type {\n",
       "        vertical-align: middle;\n",
       "    }\n",
       "\n",
       "    .dataframe tbody tr th {\n",
       "        vertical-align: top;\n",
       "    }\n",
       "\n",
       "    .dataframe thead th {\n",
       "        text-align: right;\n",
       "    }\n",
       "</style>\n",
       "<table border=\"1\" class=\"dataframe\">\n",
       "  <thead>\n",
       "    <tr style=\"text-align: right;\">\n",
       "      <th></th>\n",
       "      <th>station_number</th>\n",
       "      <th>date_ymd</th>\n",
       "      <th>snow_depth_change</th>\n",
       "    </tr>\n",
       "  </thead>\n",
       "  <tbody>\n",
       "    <tr>\n",
       "      <th>0</th>\n",
       "      <td>725300</td>\n",
       "      <td>2005-01-22</td>\n",
       "      <td>9.8</td>\n",
       "    </tr>\n",
       "  </tbody>\n",
       "</table>\n",
       "</div>"
      ],
      "text/plain": [
       "   station_number    date_ymd  snow_depth_change\n",
       "0          725300  2005-01-22                9.8"
      ]
     },
     "execution_count": 10,
     "metadata": {},
     "output_type": "execute_result"
    }
   ],
   "source": [
    "max_increase"
   ]
  }
 ],
 "metadata": {
  "kernelspec": {
   "display_name": "venv (3.11.4)",
   "language": "python",
   "name": "python3"
  },
  "language_info": {
   "codemirror_mode": {
    "name": "ipython",
    "version": 3
   },
   "file_extension": ".py",
   "mimetype": "text/x-python",
   "name": "python",
   "nbconvert_exporter": "python",
   "pygments_lexer": "ipython3",
   "version": "3.11.4"
  }
 },
 "nbformat": 4,
 "nbformat_minor": 5
}
